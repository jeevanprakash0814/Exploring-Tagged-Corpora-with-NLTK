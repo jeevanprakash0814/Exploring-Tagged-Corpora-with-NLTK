{
  "cells": [
    {
      "cell_type": "markdown",
      "metadata": {},
      "source": [
        "Credit for organizing this Jupyter Notebook goes to Brian Reese (University of Minnesota Professor)\n",
        "\n",
        "Credit for the last few code chunks at the bottom of the Jupyter Notebook go to me"
      ]
    },
    {
      "cell_type": "code",
      "execution_count": 47,
      "metadata": {
        "colab": {
          "base_uri": "https://localhost:8080/"
        },
        "id": "dhqnVIgCpq5x",
        "outputId": "bba06227-3373-4feb-a266-36ac1081c8cf"
      },
      "outputs": [
        {
          "name": "stdout",
          "output_type": "stream",
          "text": [
            "[nltk_data] Downloading package brown to /root/nltk_data...\n",
            "[nltk_data]   Package brown is already up-to-date!\n"
          ]
        }
      ],
      "source": [
        "import nltk\n",
        "from nltk.corpus import brown\n",
        "from pprint import pprint\n",
        "\n",
        "nltk.download('brown')\n",
        "# String-formatting function:\n",
        "def pairs2str(sent):\n",
        "    strings = []\n",
        "    for (word, tag) in sent:\n",
        "        if tag == None:\n",
        "            strings.append(word + \"/\" + \"UNK\")\n",
        "        else:\n",
        "            strings.append(word + \"/\" + tag)\n",
        "    return \" \".join(strings)"
      ]
    },
    {
      "cell_type": "markdown",
      "metadata": {
        "id": "ESoZ7w-Vpq51"
      },
      "source": [
        "# NLTK's tagged corpora\n",
        "\n",
        "Many of the corpora included with the NLTK library can be accessed with part of speech information for word tokens.  For example, the methods below (note that I have imported the `brown` corpus from NLTK's `corpus` module) access the Brown corpus as a list of words and a list of sentences, respectively.  A sentence is represented as a list of individual tokens.  Each token is represented as a **tuple** consisting of the **word form** and its **part of speech label**.  \n",
        "\n",
        "- `brown.tagged_words()`\n",
        "- `brown.tagged_sents()`\n",
        "\n",
        "The code block below saves the part of speech tagged words of the Brown corpus to the list `words` and prints the first five tokens. The pair `('The', 'AT')`, for example, indicates that first instance of the word `'The'` is assigned the part of speech label `AT`.  "
      ]
    },
    {
      "cell_type": "code",
      "execution_count": 48,
      "metadata": {
        "colab": {
          "base_uri": "https://localhost:8080/"
        },
        "id": "FrLWvAxhpq52",
        "outputId": "c03cac88-4c51-4898-b42a-005f88602849"
      },
      "outputs": [
        {
          "name": "stdout",
          "output_type": "stream",
          "text": [
            "[('The', 'AT'),\n",
            " ('Fulton', 'NP-TL'),\n",
            " ('County', 'NN-TL'),\n",
            " ('Grand', 'JJ-TL'),\n",
            " ('Jury', 'NN-TL')]\n"
          ]
        }
      ],
      "source": [
        "words = brown.tagged_words()\n",
        "pprint(words[:5])"
      ]
    },
    {
      "cell_type": "markdown",
      "metadata": {
        "id": "XmxN0s1Tpq53"
      },
      "source": [
        "The next code block saves each sentence of the Brown corpus to the list `sents` and prints the first item in the list, itself a list of word-POS tuples.  "
      ]
    },
    {
      "cell_type": "code",
      "execution_count": 49,
      "metadata": {
        "colab": {
          "base_uri": "https://localhost:8080/"
        },
        "id": "gr7CdoUTpq54",
        "outputId": "2795ddbd-3259-4192-e529-e4bf1f2b8ced"
      },
      "outputs": [
        {
          "name": "stdout",
          "output_type": "stream",
          "text": [
            "[('The', 'AT'),\n",
            " ('Fulton', 'NP-TL'),\n",
            " ('County', 'NN-TL'),\n",
            " ('Grand', 'JJ-TL'),\n",
            " ('Jury', 'NN-TL'),\n",
            " ('said', 'VBD'),\n",
            " ('Friday', 'NR'),\n",
            " ('an', 'AT'),\n",
            " ('investigation', 'NN'),\n",
            " ('of', 'IN'),\n",
            " (\"Atlanta's\", 'NP$'),\n",
            " ('recent', 'JJ'),\n",
            " ('primary', 'NN'),\n",
            " ('election', 'NN'),\n",
            " ('produced', 'VBD'),\n",
            " ('``', '``'),\n",
            " ('no', 'AT'),\n",
            " ('evidence', 'NN'),\n",
            " (\"''\", \"''\"),\n",
            " ('that', 'CS'),\n",
            " ('any', 'DTI'),\n",
            " ('irregularities', 'NNS'),\n",
            " ('took', 'VBD'),\n",
            " ('place', 'NN'),\n",
            " ('.', '.')]\n"
          ]
        }
      ],
      "source": [
        "sents = brown.tagged_sents()\n",
        "pprint(sents[0])"
      ]
    },
    {
      "cell_type": "markdown",
      "metadata": {
        "id": "h-tM9uMzpq54"
      },
      "source": [
        "It is common to represent a POS tagged word as a string `word/POS` and to represent a sentence as a sequence of such strings.  The function `pairs2str`, defined above, takes a list of word-POS tuples and prints them as a string in this format."
      ]
    },
    {
      "cell_type": "code",
      "execution_count": 50,
      "metadata": {
        "colab": {
          "base_uri": "https://localhost:8080/"
        },
        "id": "JIkyGNICpq55",
        "outputId": "7de9e6cb-fc04-4e80-eedc-eedaddbbb9e3"
      },
      "outputs": [
        {
          "name": "stdout",
          "output_type": "stream",
          "text": [
            "It/PPS recommended/VBD that/CS Fulton/NP legislators/NNS act/VB ``/`` to/TO have/HV these/DTS laws/NNS studied/VBN and/CC revised/VBN to/IN the/AT end/NN of/IN modernizing/VBG and/CC improving/VBG them/PPO ''/'' ./.\n"
          ]
        }
      ],
      "source": [
        "print(pairs2str(sents[5]))"
      ]
    },
    {
      "cell_type": "markdown",
      "metadata": {
        "id": "6IQ2MBXIpq56"
      },
      "source": [
        "# Help\n",
        "\n",
        "NLTK provides a convenient `help` function with information on the two most commonly used tagsets, the Brown tagset and UPenn treebank tagset.  Note that if you do not provide an argument to the method, it returns a full list of corresponding tagset  Note that the argument to the method is not just a string, but rather a **regular expression**"
      ]
    },
    {
      "cell_type": "code",
      "execution_count": null,
      "metadata": {
        "id": "ICLIfqXrpq58",
        "outputId": "82727622-3c9c-417f-8afe-9d32f3f970df"
      },
      "outputs": [
        {
          "name": "stdout",
          "output_type": "stream",
          "text": [
            "RB: adverb\n",
            "    only often generally also nevertheless upon together back newly no\n",
            "    likely meanwhile near then heavily there apparently yet outright fully\n",
            "    aside consistently specifically formally ever just ...\n"
          ]
        }
      ],
      "source": [
        "nltk.help.brown_tagset('RB')"
      ]
    },
    {
      "cell_type": "code",
      "execution_count": null,
      "metadata": {
        "id": "l9MExbftpq58",
        "outputId": "8ec76c60-6937-4899-d654-88619efe9a0e"
      },
      "outputs": [
        {
          "name": "stdout",
          "output_type": "stream",
          "text": [
            "JJ: adjective or numeral, ordinal\n",
            "    third ill-mannered pre-war regrettable oiled calamitous first separable\n",
            "    ectoplasmic battery-powered participatory fourth still-to-be-named\n",
            "    multilingual multi-disciplinary ...\n",
            "JJR: adjective, comparative\n",
            "    bleaker braver breezier briefer brighter brisker broader bumper busier\n",
            "    calmer cheaper choosier cleaner clearer closer colder commoner costlier\n",
            "    cozier creamier crunchier cuter ...\n",
            "JJS: adjective, superlative\n",
            "    calmest cheapest choicest classiest cleanest clearest closest commonest\n",
            "    corniest costliest crassest creepiest crudest cutest darkest deadliest\n",
            "    dearest deepest densest dinkiest ...\n"
          ]
        }
      ],
      "source": [
        "nltk.help.upenn_tagset('JJ*')"
      ]
    },
    {
      "cell_type": "markdown",
      "metadata": {
        "id": "Hg2dk3kNpq59"
      },
      "source": [
        "How hard is automatic part of speech tagging?  A recurring theme of the course is that one of the main challenges of NLP is dealing effectively with the ambiguity inherent to natural languages.  This is true for part-of-speech tagging, as well.  Many word forms occur with more than one part of speech label in a given corpus. For example, the word \"bank\" can be either a noun or a verb.\n",
        "\n",
        "We can use a part of speech tagged corpora to get a sense of the extent of this ambiguity by answering a few questions; for example:\n",
        "\n",
        "1. How many word types are unambiguous in the sense that they occur with only one part of speech tag in the corpus?\n",
        "2. How many word types are ambiguous, that is, occur with two or more distinct part of speech tags in the corpus?\n",
        "3. How many of the individual tokens in the text are instances of (un)ambiguous word types?\n",
        "4. How ambiguous are ambiguous word types? That is, for each integer $n$, how many word types appear with $n$ distinct part of speech labels? What is the highest $n$?\n",
        "\n",
        "Before answering these questions, lets clean up the corpus by normalizing the text (we perform **case folding** here) and simplifying the tags a little.  "
      ]
    },
    {
      "cell_type": "code",
      "execution_count": 51,
      "metadata": {
        "id": "tlSTOnHnpq59"
      },
      "outputs": [],
      "source": [
        "words = brown.tagged_words()\n",
        "words = [(word.lower(), tag.split('-')[0]) for word, tag in words]"
      ]
    },
    {
      "cell_type": "markdown",
      "metadata": {
        "id": "joHQA-s4pq5-"
      },
      "source": [
        "What kind of data structure would be useful in answering the questions above?  \n",
        "\n",
        "For each vocabulary item that occurs in the corpus, we need to know how many distinct part of speech labels it occurs with, so some sort of dictionary-like structure seems appropriate.  For example, we could build a dictionary that maps word forms to lists of the POS labels they occur with.  However, in order to answer the question about ambiguous *tokens*, we also need to know how often a word occurs with each of its associated part of speech labels.  Is there a single data structure we could use to answer all of the questions above?  \n",
        "\n",
        "Yes, a conditional frequency distribution in which the conditions are the word forms that occur in the corpus!  Recall that a CFD associates an ordinary frequency distribution with each condition.  For our purposes, the objects associated with a word form will be a frequency distribution over the part of speech labels that occur with that form.  If we feed NLTK's `.ConditionalFreqDist()` class a list of tuples, it will return a conditional frequency distribution where the first element of each tuple is the condition and the second element is the observation for that condition.  Thus the data structure we need is obtained with the following block of code."
      ]
    },
    {
      "cell_type": "code",
      "execution_count": 52,
      "metadata": {
        "id": "slcQOVc1pq5-"
      },
      "outputs": [],
      "source": [
        "cfd = nltk.ConditionalFreqDist(words)"
      ]
    },
    {
      "cell_type": "markdown",
      "metadata": {
        "id": "4AQCQFpHpq5-"
      },
      "source": [
        "The following features of the object `cfd` should be useful in answering the questions below:\n",
        "\n",
        " - For each word form `w`, `cfd[w]` returns a frequency distribution over POS labels.  Try typing `cfd['back']` in the code block below.  By inspecting the resulting object you can see that the word form `back` occurs with four distinct parts of speech in our corpus: adverb (`RB`), singular common noun (`NN`), adjective (`JJ`), and base verb (`VB`).\n",
        " - The number of \"bins\" associated with a frequency distribution tells us how many POS labels a word form occurs with. The `.B()` method returns the number of bins associated with a frequency distribution.  Type `cfd['back'].B()` into the work space below.\n",
        " - The `.N()` method returns the total number of observations for a given condition.  Type `cfd['back'].N()` into the work space below.  This tells us how many times `back` occurred in the corpus.\n",
        " - `len(cfd)` tells you how many conditions are associated with the conditional frequency distribution, i.e. the number of unique word form types there were in the corpus.  Try it out in the space below.\n",
        " - `cfd.N()` returns the total number of word tokens in the corpus.  Again, try it out.\n",
        " "
      ]
    },
    {
      "cell_type": "code",
      "execution_count": 53,
      "metadata": {
        "colab": {
          "base_uri": "https://localhost:8080/"
        },
        "id": "ZvxixPOo3_bz",
        "outputId": "64c8248e-4ee3-4895-af5a-5c4f64e565ac"
      },
      "outputs": [
        {
          "data": {
            "text/plain": [
              "FreqDist({'JJ': 29, 'NN': 178, 'RB': 734, 'VB': 25})"
            ]
          },
          "execution_count": 53,
          "metadata": {},
          "output_type": "execute_result"
        }
      ],
      "source": [
        "# Workspace code block:\n",
        "cfd['back']"
      ]
    },
    {
      "cell_type": "code",
      "execution_count": 54,
      "metadata": {
        "colab": {
          "base_uri": "https://localhost:8080/"
        },
        "id": "eLPCKPVe3_N2",
        "outputId": "a750088a-76e9-404a-df2a-aa1d377f68c7"
      },
      "outputs": [
        {
          "data": {
            "text/plain": [
              "4"
            ]
          },
          "execution_count": 54,
          "metadata": {},
          "output_type": "execute_result"
        }
      ],
      "source": [
        "# Workspace code block:\n",
        "cfd['back'].B()"
      ]
    },
    {
      "cell_type": "code",
      "execution_count": 55,
      "metadata": {
        "colab": {
          "base_uri": "https://localhost:8080/"
        },
        "id": "uNtpRKOApq5_",
        "outputId": "79aa4899-6ba0-42be-e92f-122f561b3973"
      },
      "outputs": [
        {
          "data": {
            "text/plain": [
              "966"
            ]
          },
          "execution_count": 55,
          "metadata": {},
          "output_type": "execute_result"
        }
      ],
      "source": [
        "# Workspace code block:\n",
        "cfd['back'].N()"
      ]
    },
    {
      "cell_type": "code",
      "execution_count": 56,
      "metadata": {
        "colab": {
          "base_uri": "https://localhost:8080/"
        },
        "id": "M9T19KAP3_DA",
        "outputId": "a3c31359-0a8f-405b-91f6-de5c14574fd2"
      },
      "outputs": [
        {
          "data": {
            "text/plain": [
              "49815"
            ]
          },
          "execution_count": 56,
          "metadata": {},
          "output_type": "execute_result"
        }
      ],
      "source": [
        "# Workspace code block:\n",
        "len(cfd)"
      ]
    },
    {
      "cell_type": "code",
      "execution_count": 57,
      "metadata": {
        "colab": {
          "base_uri": "https://localhost:8080/"
        },
        "id": "rN_vZ6uw3-jW",
        "outputId": "66054937-aba0-46da-8fdc-8d045ff7cbec"
      },
      "outputs": [
        {
          "data": {
            "text/plain": [
              "1161192"
            ]
          },
          "execution_count": 57,
          "metadata": {},
          "output_type": "execute_result"
        }
      ],
      "source": [
        "# Workspace code block:\n",
        "cfd.N()"
      ]
    },
    {
      "cell_type": "markdown",
      "metadata": {
        "id": "d07OEme3pq5_"
      },
      "source": [
        "This is all you need to answer the questions above.  Fill in the code blocks below with the necessary code to answer each question.\n",
        "\n",
        "## How many (un)ambiguous word types are there in the corpus?\n",
        "\n",
        "How many of the distinct **word types** in the corpus are associated with a single part-of-speech label?  How many of them are associated with two or more part-of-speech labels?"
      ]
    },
    {
      "cell_type": "code",
      "execution_count": 58,
      "metadata": {
        "colab": {
          "base_uri": "https://localhost:8080/"
        },
        "id": "3gWHg0U2pq5_",
        "outputId": "7cfd1663-4b94-4ba4-86b0-aa28a8b59307"
      },
      "outputs": [
        {
          "name": "stdout",
          "output_type": "stream",
          "text": [
            "There are 44196 word types with a single part-of-speech label\n"
          ]
        }
      ],
      "source": [
        "# single part-of-spech label\n",
        "distinct = 0\n",
        "\n",
        "for cond in cfd:\n",
        "  if cfd[cond].B() <= 1:\n",
        "    distinct += 1\n",
        "\n",
        "print(\"There are\", distinct, \"word types with a single part-of-speech label\")"
      ]
    },
    {
      "cell_type": "code",
      "execution_count": 59,
      "metadata": {
        "colab": {
          "base_uri": "https://localhost:8080/"
        },
        "id": "ZF-rjBPSy0CF",
        "outputId": "3c3fcc41-56f2-40d4-dc01-250e91835c10"
      },
      "outputs": [
        {
          "name": "stdout",
          "output_type": "stream",
          "text": [
            "There are 5619 word types with two or more part-of-speech label\n"
          ]
        }
      ],
      "source": [
        "# two or more part-of-spech label\n",
        "distinct = 0\n",
        "\n",
        "for cond in cfd:\n",
        "  if cfd[cond].B() > 1:\n",
        "    distinct += 1\n",
        "\n",
        "print(\"There are\", distinct, \"word types with two or more part-of-speech label\")"
      ]
    },
    {
      "cell_type": "markdown",
      "metadata": {
        "id": "O4J4OB5Tpq5_"
      },
      "source": [
        "## How many of the word *tokens* in the corpus are instances of ambiguous word types?"
      ]
    },
    {
      "cell_type": "code",
      "execution_count": 60,
      "metadata": {
        "colab": {
          "base_uri": "https://localhost:8080/"
        },
        "id": "1QrNz3Vkpq6A",
        "outputId": "00a4fca6-4c4f-4f23-c850-9cbbe92cebab"
      },
      "outputs": [
        {
          "name": "stdout",
          "output_type": "stream",
          "text": [
            "There are 719031 ambiguous word tokens.\n",
            "There are 442161 unambiguous word tokens.\n"
          ]
        }
      ],
      "source": [
        "ambiguous = 0\n",
        "unambiguous = 0\n",
        "\n",
        "for cond in cfd:\n",
        "  if cfd[cond].B() > 1:\n",
        "    ambiguous += cfd[cond].N()\n",
        "  else:\n",
        "    unambiguous += cfd[cond].N()\n",
        "\n",
        "print(\"There are\", ambiguous, \"ambiguous word tokens.\\nThere are\", unambiguous, \"unambiguous word tokens.\")"
      ]
    },
    {
      "cell_type": "markdown",
      "metadata": {
        "id": "FDh-v9Kypq6A"
      },
      "source": [
        "## How frequently do we see a word form with 1, 2, 3, ..., part of speech labels?\n",
        "Hint: You may want to build a frequency distribution over integers $n$, where we are counting words that appear with $n$ distinct part of speech labels.  For example, `fd[3]` would return the number of word forms that appear with 3 distinct POS labels.  I have initiated a `FreqDist` object for you in the block below.  To increment the count for a given observation `obs`, use `fd[obs] += 1`.  \n",
        "\n",
        "Use the `.tabulate()` method of frequency distributions to display the results."
      ]
    },
    {
      "cell_type": "code",
      "execution_count": 61,
      "metadata": {
        "colab": {
          "base_uri": "https://localhost:8080/"
        },
        "id": "Rtu3rFQapq6A",
        "outputId": "e8c6158e-388a-4ee7-b477-6ab9f5afb93f"
      },
      "outputs": [
        {
          "name": "stdout",
          "output_type": "stream",
          "text": [
            "    1     2     3     4     5     6     7 \n",
            "44196  5066   434    90    23     4     2 \n"
          ]
        }
      ],
      "source": [
        "# Write your code here\n",
        "fd = nltk.FreqDist()\n",
        "\n",
        "count = -1\n",
        "i = 1\n",
        "\n",
        "while count is not 0:\n",
        "  count = 0\n",
        "  for cond in cfd:\n",
        "    if cfd[cond].B() is i:\n",
        "      count += 1\n",
        "  if count is not 0:\n",
        "    fd[i] += count\n",
        "    i += 1\n",
        "\n",
        "fd.tabulate()\n"
      ]
    }
  ],
  "metadata": {
    "colab": {
      "name": "Working with part of speech tagged corpora in NLTK.ipynb",
      "provenance": []
    },
    "kernelspec": {
      "display_name": "Python 3 (ipykernel)",
      "language": "python",
      "name": "python3"
    },
    "language_info": {
      "codemirror_mode": {
        "name": "ipython",
        "version": 3
      },
      "file_extension": ".py",
      "mimetype": "text/x-python",
      "name": "python",
      "nbconvert_exporter": "python",
      "pygments_lexer": "ipython3",
      "version": "3.9.7"
    }
  },
  "nbformat": 4,
  "nbformat_minor": 0
}
